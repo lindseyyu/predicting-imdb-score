{
  "nbformat": 4,
  "nbformat_minor": 0,
  "metadata": {
    "colab": {
      "name": "Yu_IMDb.ipynb",
      "provenance": [],
      "collapsed_sections": [],
      "toc_visible": true
    },
    "kernelspec": {
      "name": "python3",
      "display_name": "Python 3"
    },
    "language_info": {
      "name": "python"
    }
  },
  "cells": [
    {
      "cell_type": "markdown",
      "source": [
        "# Introduction: Strategy for Maximizing IMDb Score"
      ],
      "metadata": {
        "id": "psacR_Pt4YEx"
      }
    },
    {
      "cell_type": "markdown",
      "source": [
        "**Background:** The IMDb 5000 dataset provides information about 5000 movies and their statistics on the IMDb platform. \n",
        "\n",
        "**Motivation:** It is common to use a movie's IMDb score to evaluate whether you want to stream or go out to see a movie. If a movie studio is trying to promote their movie on IMDb, can we provide it with a strategy that can maximize the movie's IMDb score?\n",
        "\n",
        "**Overview of Solution:** This problem assumes new-coming studio movies, so we do not use historical data like a studio's previous movie scores. \n",
        "The types of information can be categorizes into 3 groups:\n",
        "\n",
        "\n",
        "*  **Numerical IMDb data**: score, # user reviews, # critic reviews, etc.\n",
        "*  **Numerical/Ordinal Movie-Specific data**: budget, gross, year released, director Facebook likes, etc.  \n",
        "*   **Categorical Movie-Specific data**: country, language, director name, etc. \n",
        "\n",
        "Due to the variable formats of the data, this problem presents the challenge of finding an intuitive and robust method to represent the features in the models. \n",
        "\n",
        "A linear regression, random forest regression, and gradient boosting machine are evaluated using 3-fold cross-validation for IMDb score predictions. \n",
        "\n",
        "\n",
        "\n",
        "\n",
        "\n"
      ],
      "metadata": {
        "id": "B7pQLloE6pF0"
      }
    },
    {
      "cell_type": "markdown",
      "source": [
        "# Importing Libraries and Data"
      ],
      "metadata": {
        "id": "CQNxsuTh4j1T"
      }
    },
    {
      "cell_type": "code",
      "source": [
        "import numpy as np\n",
        "import pandas as pd \n",
        "import seaborn as sns\n",
        "import matplotlib.pyplot as plt\n",
        "import statsmodels.formula.api as sm\n",
        "\n",
        "\n",
        "!ln -sTf \"/content/drive/My Drive/BA_Assignment\" \"/content/BA_Assignment\"\n",
        "%cd '/content/BA_Assignment'\n",
        "\n",
        "imdb_df = pd.read_csv(\"/content/drive/MyDrive/BA_Assignment/movie_metadata.csv\")"
      ],
      "metadata": {
        "id": "cGqIXQ9sWm90",
        "colab": {
          "base_uri": "https://localhost:8080/"
        },
        "outputId": "d108f59e-6ede-4a1e-f8dd-1ea071119146"
      },
      "execution_count": 1,
      "outputs": [
        {
          "output_type": "stream",
          "name": "stderr",
          "text": [
            "/usr/local/lib/python3.7/dist-packages/statsmodels/tools/_testing.py:19: FutureWarning: pandas.util.testing is deprecated. Use the functions in the public API at pandas.testing instead.\n",
            "  import pandas.util.testing as tm\n"
          ]
        },
        {
          "output_type": "stream",
          "name": "stdout",
          "text": [
            "/content/drive/My Drive/BA_Assignment\n"
          ]
        }
      ]
    },
    {
      "cell_type": "markdown",
      "source": [
        "# Data Exploration and Preprocessing"
      ],
      "metadata": {
        "id": "K9wGsmBGCJPS"
      }
    },
    {
      "cell_type": "code",
      "source": [
        "imdb_df.head()"
      ],
      "metadata": {
        "colab": {
          "base_uri": "https://localhost:8080/",
          "height": 426
        },
        "id": "RO8Whjavs56Z",
        "outputId": "3403cca6-b1ac-4863-9dd6-11d7aa12f2d8"
      },
      "execution_count": 3,
      "outputs": [
        {
          "output_type": "execute_result",
          "data": {
            "text/html": [
              "\n",
              "  <div id=\"df-5a3ca5fc-d73b-4ada-92e1-2297fc8766ea\">\n",
              "    <div class=\"colab-df-container\">\n",
              "      <div>\n",
              "<style scoped>\n",
              "    .dataframe tbody tr th:only-of-type {\n",
              "        vertical-align: middle;\n",
              "    }\n",
              "\n",
              "    .dataframe tbody tr th {\n",
              "        vertical-align: top;\n",
              "    }\n",
              "\n",
              "    .dataframe thead th {\n",
              "        text-align: right;\n",
              "    }\n",
              "</style>\n",
              "<table border=\"1\" class=\"dataframe\">\n",
              "  <thead>\n",
              "    <tr style=\"text-align: right;\">\n",
              "      <th></th>\n",
              "      <th>color</th>\n",
              "      <th>director_name</th>\n",
              "      <th>num_critic_for_reviews</th>\n",
              "      <th>duration</th>\n",
              "      <th>director_facebook_likes</th>\n",
              "      <th>actor_3_facebook_likes</th>\n",
              "      <th>actor_2_name</th>\n",
              "      <th>actor_1_facebook_likes</th>\n",
              "      <th>gross</th>\n",
              "      <th>genres</th>\n",
              "      <th>actor_1_name</th>\n",
              "      <th>movie_title</th>\n",
              "      <th>num_voted_users</th>\n",
              "      <th>cast_total_facebook_likes</th>\n",
              "      <th>actor_3_name</th>\n",
              "      <th>facenumber_in_poster</th>\n",
              "      <th>plot_keywords</th>\n",
              "      <th>movie_imdb_link</th>\n",
              "      <th>num_user_for_reviews</th>\n",
              "      <th>language</th>\n",
              "      <th>country</th>\n",
              "      <th>content_rating</th>\n",
              "      <th>budget</th>\n",
              "      <th>title_year</th>\n",
              "      <th>actor_2_facebook_likes</th>\n",
              "      <th>imdb_score</th>\n",
              "      <th>aspect_ratio</th>\n",
              "      <th>movie_facebook_likes</th>\n",
              "    </tr>\n",
              "  </thead>\n",
              "  <tbody>\n",
              "    <tr>\n",
              "      <th>0</th>\n",
              "      <td>Color</td>\n",
              "      <td>James Cameron</td>\n",
              "      <td>723.0</td>\n",
              "      <td>178.0</td>\n",
              "      <td>0.0</td>\n",
              "      <td>855.0</td>\n",
              "      <td>Joel David Moore</td>\n",
              "      <td>1000.0</td>\n",
              "      <td>760505847.0</td>\n",
              "      <td>Action|Adventure|Fantasy|Sci-Fi</td>\n",
              "      <td>CCH Pounder</td>\n",
              "      <td>Avatar</td>\n",
              "      <td>886204</td>\n",
              "      <td>4834</td>\n",
              "      <td>Wes Studi</td>\n",
              "      <td>0.0</td>\n",
              "      <td>avatar|future|marine|native|paraplegic</td>\n",
              "      <td>http://www.imdb.com/title/tt0499549/?ref_=fn_t...</td>\n",
              "      <td>3054.0</td>\n",
              "      <td>English</td>\n",
              "      <td>USA</td>\n",
              "      <td>PG-13</td>\n",
              "      <td>237000000.0</td>\n",
              "      <td>2009.0</td>\n",
              "      <td>936.0</td>\n",
              "      <td>7.9</td>\n",
              "      <td>1.78</td>\n",
              "      <td>33000</td>\n",
              "    </tr>\n",
              "    <tr>\n",
              "      <th>1</th>\n",
              "      <td>Color</td>\n",
              "      <td>Gore Verbinski</td>\n",
              "      <td>302.0</td>\n",
              "      <td>169.0</td>\n",
              "      <td>563.0</td>\n",
              "      <td>1000.0</td>\n",
              "      <td>Orlando Bloom</td>\n",
              "      <td>40000.0</td>\n",
              "      <td>309404152.0</td>\n",
              "      <td>Action|Adventure|Fantasy</td>\n",
              "      <td>Johnny Depp</td>\n",
              "      <td>Pirates of the Caribbean: At World's End</td>\n",
              "      <td>471220</td>\n",
              "      <td>48350</td>\n",
              "      <td>Jack Davenport</td>\n",
              "      <td>0.0</td>\n",
              "      <td>goddess|marriage ceremony|marriage proposal|pi...</td>\n",
              "      <td>http://www.imdb.com/title/tt0449088/?ref_=fn_t...</td>\n",
              "      <td>1238.0</td>\n",
              "      <td>English</td>\n",
              "      <td>USA</td>\n",
              "      <td>PG-13</td>\n",
              "      <td>300000000.0</td>\n",
              "      <td>2007.0</td>\n",
              "      <td>5000.0</td>\n",
              "      <td>7.1</td>\n",
              "      <td>2.35</td>\n",
              "      <td>0</td>\n",
              "    </tr>\n",
              "    <tr>\n",
              "      <th>2</th>\n",
              "      <td>Color</td>\n",
              "      <td>Sam Mendes</td>\n",
              "      <td>602.0</td>\n",
              "      <td>148.0</td>\n",
              "      <td>0.0</td>\n",
              "      <td>161.0</td>\n",
              "      <td>Rory Kinnear</td>\n",
              "      <td>11000.0</td>\n",
              "      <td>200074175.0</td>\n",
              "      <td>Action|Adventure|Thriller</td>\n",
              "      <td>Christoph Waltz</td>\n",
              "      <td>Spectre</td>\n",
              "      <td>275868</td>\n",
              "      <td>11700</td>\n",
              "      <td>Stephanie Sigman</td>\n",
              "      <td>1.0</td>\n",
              "      <td>bomb|espionage|sequel|spy|terrorist</td>\n",
              "      <td>http://www.imdb.com/title/tt2379713/?ref_=fn_t...</td>\n",
              "      <td>994.0</td>\n",
              "      <td>English</td>\n",
              "      <td>UK</td>\n",
              "      <td>PG-13</td>\n",
              "      <td>245000000.0</td>\n",
              "      <td>2015.0</td>\n",
              "      <td>393.0</td>\n",
              "      <td>6.8</td>\n",
              "      <td>2.35</td>\n",
              "      <td>85000</td>\n",
              "    </tr>\n",
              "    <tr>\n",
              "      <th>3</th>\n",
              "      <td>Color</td>\n",
              "      <td>Christopher Nolan</td>\n",
              "      <td>813.0</td>\n",
              "      <td>164.0</td>\n",
              "      <td>22000.0</td>\n",
              "      <td>23000.0</td>\n",
              "      <td>Christian Bale</td>\n",
              "      <td>27000.0</td>\n",
              "      <td>448130642.0</td>\n",
              "      <td>Action|Thriller</td>\n",
              "      <td>Tom Hardy</td>\n",
              "      <td>The Dark Knight Rises</td>\n",
              "      <td>1144337</td>\n",
              "      <td>106759</td>\n",
              "      <td>Joseph Gordon-Levitt</td>\n",
              "      <td>0.0</td>\n",
              "      <td>deception|imprisonment|lawlessness|police offi...</td>\n",
              "      <td>http://www.imdb.com/title/tt1345836/?ref_=fn_t...</td>\n",
              "      <td>2701.0</td>\n",
              "      <td>English</td>\n",
              "      <td>USA</td>\n",
              "      <td>PG-13</td>\n",
              "      <td>250000000.0</td>\n",
              "      <td>2012.0</td>\n",
              "      <td>23000.0</td>\n",
              "      <td>8.5</td>\n",
              "      <td>2.35</td>\n",
              "      <td>164000</td>\n",
              "    </tr>\n",
              "    <tr>\n",
              "      <th>4</th>\n",
              "      <td>NaN</td>\n",
              "      <td>Doug Walker</td>\n",
              "      <td>NaN</td>\n",
              "      <td>NaN</td>\n",
              "      <td>131.0</td>\n",
              "      <td>NaN</td>\n",
              "      <td>Rob Walker</td>\n",
              "      <td>131.0</td>\n",
              "      <td>NaN</td>\n",
              "      <td>Documentary</td>\n",
              "      <td>Doug Walker</td>\n",
              "      <td>Star Wars: Episode VII - The Force Awakens    ...</td>\n",
              "      <td>8</td>\n",
              "      <td>143</td>\n",
              "      <td>NaN</td>\n",
              "      <td>0.0</td>\n",
              "      <td>NaN</td>\n",
              "      <td>http://www.imdb.com/title/tt5289954/?ref_=fn_t...</td>\n",
              "      <td>NaN</td>\n",
              "      <td>NaN</td>\n",
              "      <td>NaN</td>\n",
              "      <td>NaN</td>\n",
              "      <td>NaN</td>\n",
              "      <td>NaN</td>\n",
              "      <td>12.0</td>\n",
              "      <td>7.1</td>\n",
              "      <td>NaN</td>\n",
              "      <td>0</td>\n",
              "    </tr>\n",
              "  </tbody>\n",
              "</table>\n",
              "</div>\n",
              "      <button class=\"colab-df-convert\" onclick=\"convertToInteractive('df-5a3ca5fc-d73b-4ada-92e1-2297fc8766ea')\"\n",
              "              title=\"Convert this dataframe to an interactive table.\"\n",
              "              style=\"display:none;\">\n",
              "        \n",
              "  <svg xmlns=\"http://www.w3.org/2000/svg\" height=\"24px\"viewBox=\"0 0 24 24\"\n",
              "       width=\"24px\">\n",
              "    <path d=\"M0 0h24v24H0V0z\" fill=\"none\"/>\n",
              "    <path d=\"M18.56 5.44l.94 2.06.94-2.06 2.06-.94-2.06-.94-.94-2.06-.94 2.06-2.06.94zm-11 1L8.5 8.5l.94-2.06 2.06-.94-2.06-.94L8.5 2.5l-.94 2.06-2.06.94zm10 10l.94 2.06.94-2.06 2.06-.94-2.06-.94-.94-2.06-.94 2.06-2.06.94z\"/><path d=\"M17.41 7.96l-1.37-1.37c-.4-.4-.92-.59-1.43-.59-.52 0-1.04.2-1.43.59L10.3 9.45l-7.72 7.72c-.78.78-.78 2.05 0 2.83L4 21.41c.39.39.9.59 1.41.59.51 0 1.02-.2 1.41-.59l7.78-7.78 2.81-2.81c.8-.78.8-2.07 0-2.86zM5.41 20L4 18.59l7.72-7.72 1.47 1.35L5.41 20z\"/>\n",
              "  </svg>\n",
              "      </button>\n",
              "      \n",
              "  <style>\n",
              "    .colab-df-container {\n",
              "      display:flex;\n",
              "      flex-wrap:wrap;\n",
              "      gap: 12px;\n",
              "    }\n",
              "\n",
              "    .colab-df-convert {\n",
              "      background-color: #E8F0FE;\n",
              "      border: none;\n",
              "      border-radius: 50%;\n",
              "      cursor: pointer;\n",
              "      display: none;\n",
              "      fill: #1967D2;\n",
              "      height: 32px;\n",
              "      padding: 0 0 0 0;\n",
              "      width: 32px;\n",
              "    }\n",
              "\n",
              "    .colab-df-convert:hover {\n",
              "      background-color: #E2EBFA;\n",
              "      box-shadow: 0px 1px 2px rgba(60, 64, 67, 0.3), 0px 1px 3px 1px rgba(60, 64, 67, 0.15);\n",
              "      fill: #174EA6;\n",
              "    }\n",
              "\n",
              "    [theme=dark] .colab-df-convert {\n",
              "      background-color: #3B4455;\n",
              "      fill: #D2E3FC;\n",
              "    }\n",
              "\n",
              "    [theme=dark] .colab-df-convert:hover {\n",
              "      background-color: #434B5C;\n",
              "      box-shadow: 0px 1px 3px 1px rgba(0, 0, 0, 0.15);\n",
              "      filter: drop-shadow(0px 1px 2px rgba(0, 0, 0, 0.3));\n",
              "      fill: #FFFFFF;\n",
              "    }\n",
              "  </style>\n",
              "\n",
              "      <script>\n",
              "        const buttonEl =\n",
              "          document.querySelector('#df-5a3ca5fc-d73b-4ada-92e1-2297fc8766ea button.colab-df-convert');\n",
              "        buttonEl.style.display =\n",
              "          google.colab.kernel.accessAllowed ? 'block' : 'none';\n",
              "\n",
              "        async function convertToInteractive(key) {\n",
              "          const element = document.querySelector('#df-5a3ca5fc-d73b-4ada-92e1-2297fc8766ea');\n",
              "          const dataTable =\n",
              "            await google.colab.kernel.invokeFunction('convertToInteractive',\n",
              "                                                     [key], {});\n",
              "          if (!dataTable) return;\n",
              "\n",
              "          const docLinkHtml = 'Like what you see? Visit the ' +\n",
              "            '<a target=\"_blank\" href=https://colab.research.google.com/notebooks/data_table.ipynb>data table notebook</a>'\n",
              "            + ' to learn more about interactive tables.';\n",
              "          element.innerHTML = '';\n",
              "          dataTable['output_type'] = 'display_data';\n",
              "          await google.colab.output.renderOutput(dataTable, element);\n",
              "          const docLink = document.createElement('div');\n",
              "          docLink.innerHTML = docLinkHtml;\n",
              "          element.appendChild(docLink);\n",
              "        }\n",
              "      </script>\n",
              "    </div>\n",
              "  </div>\n",
              "  "
            ],
            "text/plain": [
              "   color      director_name  ...  aspect_ratio  movie_facebook_likes\n",
              "0  Color      James Cameron  ...          1.78                 33000\n",
              "1  Color     Gore Verbinski  ...          2.35                     0\n",
              "2  Color         Sam Mendes  ...          2.35                 85000\n",
              "3  Color  Christopher Nolan  ...          2.35                164000\n",
              "4    NaN        Doug Walker  ...           NaN                     0\n",
              "\n",
              "[5 rows x 28 columns]"
            ]
          },
          "metadata": {},
          "execution_count": 3
        }
      ]
    },
    {
      "cell_type": "code",
      "source": [
        "#Looking at a historam for each of the numerical Columns\n",
        "imdb_df.hist(bins = 30, figsize=(15, 15))"
      ],
      "metadata": {
        "colab": {
          "base_uri": "https://localhost:8080/",
          "height": 1000
        },
        "id": "g2xekK9gCFMs",
        "outputId": "3e9efec2-c3ff-4ecf-fe58-1e6a0b30adb3"
      },
      "execution_count": 2,
      "outputs": [
        {
          "output_type": "execute_result",
          "data": {
            "text/plain": [
              "array([[<matplotlib.axes._subplots.AxesSubplot object at 0x7fe74fd1ec50>,\n",
              "        <matplotlib.axes._subplots.AxesSubplot object at 0x7fe743bec1d0>,\n",
              "        <matplotlib.axes._subplots.AxesSubplot object at 0x7fe743c257d0>,\n",
              "        <matplotlib.axes._subplots.AxesSubplot object at 0x7fe743bdadd0>],\n",
              "       [<matplotlib.axes._subplots.AxesSubplot object at 0x7fe743b9e510>,\n",
              "        <matplotlib.axes._subplots.AxesSubplot object at 0x7fe743b5fc10>,\n",
              "        <matplotlib.axes._subplots.AxesSubplot object at 0x7fe743b212d0>,\n",
              "        <matplotlib.axes._subplots.AxesSubplot object at 0x7fe743ad6810>],\n",
              "       [<matplotlib.axes._subplots.AxesSubplot object at 0x7fe743ad6850>,\n",
              "        <matplotlib.axes._subplots.AxesSubplot object at 0x7fe743a8af50>,\n",
              "        <matplotlib.axes._subplots.AxesSubplot object at 0x7fe743a02a90>,\n",
              "        <matplotlib.axes._subplots.AxesSubplot object at 0x7fe7439c40d0>],\n",
              "       [<matplotlib.axes._subplots.AxesSubplot object at 0x7fe74397a6d0>,\n",
              "        <matplotlib.axes._subplots.AxesSubplot object at 0x7fe74392ed10>,\n",
              "        <matplotlib.axes._subplots.AxesSubplot object at 0x7fe7438f0350>,\n",
              "        <matplotlib.axes._subplots.AxesSubplot object at 0x7fe743924950>]],\n",
              "      dtype=object)"
            ]
          },
          "metadata": {},
          "execution_count": 2
        },
        {
          "output_type": "display_data",
          "data": {
            "image/png": "[encoded data removed]",
            "text/plain": [
              "<Figure size 1080x1080 with 16 Axes>"
            ]
          },
          "metadata": {
            "needs_background": "light"
          }
        }
      ]
    },
    {
      "cell_type": "markdown",
      "source": [
        "**Observations:**\n",
        "\n",
        "\n",
        "*   imdb_score is most representative of a normal distribution\n",
        "*   many features appear right-skewed, the shape indicates the possible existence of outliers (mean greater than the median and mode)\n",
        "\n"
      ],
      "metadata": {
        "id": "vdKLD0mDOhS-"
      }
    },
    {
      "cell_type": "markdown",
      "source": [
        "## I: Interpreting Numerical Columns"
      ],
      "metadata": {
        "id": "vHxxTnd8Hsvu"
      }
    },
    {
      "cell_type": "markdown",
      "source": [
        "### Range and Correlation Data"
      ],
      "metadata": {
        "id": "RRD57K3_H-9-"
      }
    },
    {
      "cell_type": "code",
      "source": [
        "imdb_df.dtypes #Look at the types of our columns\n",
        "\n",
        "\n",
        "for col in imdb_df.columns: #Look at the range of values in each numerical column\n",
        "   if imdb_df[col].dtype != object:\n",
        "     print(col + ':\\n ' + ' Range: ' + str(imdb_df[col].max() - imdb_df[col].min()) + ' Average Value: ' + str(imdb_df[col].mean()))\n",
        "\n",
        "#Noticeably large range for variables - facebook_likes (director, actors 1 - 3, cast total) ; num_voted_users ; gross ; num_user_for_reviews ; budget\n",
        "#We might consider doing a transformation to avoid large model weights"
      ],
      "metadata": {
        "colab": {
          "base_uri": "https://localhost:8080/"
        },
        "id": "byE1LyG0DAbG",
        "outputId": "e4e166f9-b6bf-4a01-ba34-f188f622bb10"
      },
      "execution_count": 4,
      "outputs": [
        {
          "output_type": "stream",
          "name": "stdout",
          "text": [
            "num_critic_for_reviews:\n",
            "  Range: 812.0 Average Value: 140.1942719807731\n",
            "duration:\n",
            "  Range: 504.0 Average Value: 107.2010739856802\n",
            "director_facebook_likes:\n",
            "  Range: 23000.0 Average Value: 686.5092123911724\n",
            "actor_3_facebook_likes:\n",
            "  Range: 23000.0 Average Value: 645.0097609561753\n",
            "actor_1_facebook_likes:\n",
            "  Range: 640000.0 Average Value: 6560.04706115965\n",
            "gross:\n",
            "  Range: 760505685.0 Average Value: 48468407.52680933\n",
            "num_voted_users:\n",
            "  Range: 1689759 Average Value: 83668.16081697402\n",
            "cast_total_facebook_likes:\n",
            "  Range: 656730 Average Value: 9699.06385088241\n",
            "facenumber_in_poster:\n",
            "  Range: 43.0 Average Value: 1.3711729622266402\n",
            "num_user_for_reviews:\n",
            "  Range: 5059.0 Average Value: 272.77080844285143\n",
            "budget:\n",
            "  Range: 12215499782.0 Average Value: 39752620.436387606\n",
            "title_year:\n",
            "  Range: 100.0 Average Value: 2002.4705167173252\n",
            "actor_2_facebook_likes:\n",
            "  Range: 137000.0 Average Value: 1651.7544731610337\n",
            "imdb_score:\n",
            "  Range: 7.9 Average Value: 6.442137616498111\n",
            "aspect_ratio:\n",
            "  Range: 14.82 Average Value: 2.2204030547307805\n",
            "movie_facebook_likes:\n",
            "  Range: 349000 Average Value: 7525.9645052548085\n"
          ]
        }
      ]
    },
    {
      "cell_type": "code",
      "source": [
        "plt.subplots(figsize=(15, 15))\n",
        "sns.heatmap(imdb_df.corr(), annot=True, vmin=-0.75, vmax=.75, cmap='RdBu_r') #correlation between numerical values, with a threshold looking at >= |.75| corr\n",
        "#Given num_user_for_reviews is strongly correlated with num_voted_users (.8), we drop this column \n",
        "#Same for cast_total_facebook_likes (.95 with actor_1_facebook likes)\n",
        "imdb_df.drop(columns=['cast_total_facebook_likes', 'num_user_for_reviews'], inplace=True)"
      ],
      "metadata": {
        "id": "JVCNr8HqFhLR",
        "colab": {
          "base_uri": "https://localhost:8080/",
          "height": 980
        },
        "outputId": "6678b899-532c-46d5-dce3-3730c0d8083b"
      },
      "execution_count": 5,
      "outputs": [
        {
          "output_type": "display_data",
          "data": {
            "image/png": "[encoded data removed]",
            "text/plain": [
              "<Figure size 1080x1080 with 2 Axes>"
            ]
          },
          "metadata": {
            "needs_background": "light"
          }
        }
      ]
    },
    {
      "cell_type": "markdown",
      "source": [
        "### Handling Missing Values"
      ],
      "metadata": {
        "id": "ISu1cKMCIFTl"
      }
    },
    {
      "cell_type": "code",
      "source": [
        "imdb_df.drop_duplicates(inplace=True) #drop duplicate values\n",
        "imdb_df.shape #Looks like there were 46 duplicates"
      ],
      "metadata": {
        "colab": {
          "base_uri": "https://localhost:8080/"
        },
        "id": "8zTfBxxgF-Ev",
        "outputId": "a885a39c-945d-4560-d059-2bdc327ef07a"
      },
      "execution_count": 6,
      "outputs": [
        {
          "output_type": "execute_result",
          "data": {
            "text/plain": [
              "(4997, 26)"
            ]
          },
          "metadata": {},
          "execution_count": 6
        }
      ]
    },
    {
      "cell_type": "code",
      "source": [
        "imdb_df.isna().sum() #observing instances of missing values\n",
        "\n",
        "#Determining how to impute missing data for numerical columns \n",
        "\n",
        "#title_year\n",
        "imdb_df['title_year'].isna().sum()\n",
        "imdb_df = imdb_df.dropna(axis=0, subset=['title_year'])"
      ],
      "metadata": {
        "id": "Qy6prwYpGSoM"
      },
      "execution_count": 7,
      "outputs": []
    },
    {
      "cell_type": "code",
      "source": [
        "#budget\n",
        "imdb_df.budget.describe()\n",
        "imdb_df.dropna(axis=0, subset=['budget'], inplace=True)"
      ],
      "metadata": {
        "id": "XrCbwgeGHFyG"
      },
      "execution_count": 8,
      "outputs": []
    },
    {
      "cell_type": "code",
      "source": [
        "#aspect_ratio\n",
        "imdb_df.aspect_ratio.describe()\n",
        "imdb_df.aspect_ratio.mode().iloc[0]\n",
        "imdb_df.aspect_ratio.fillna(imdb_df.aspect_ratio.mode().iloc[0], inplace=True)"
      ],
      "metadata": {
        "id": "c-LM8dOJuPxN"
      },
      "execution_count": 9,
      "outputs": []
    },
    {
      "cell_type": "code",
      "source": [
        "#facenumber_in_poster    \n",
        "imdb_df.facenumber_in_poster.unique()\n",
        "imdb_df.facenumber_in_poster.fillna(imdb_df.facenumber_in_poster.median(), inplace=True)  "
      ],
      "metadata": {
        "id": "5DzZeNbtus0Q"
      },
      "execution_count": 10,
      "outputs": []
    },
    {
      "cell_type": "code",
      "source": [
        "#num_critic_for_reviews\n",
        "imdb_df.num_critic_for_reviews.describe()\n",
        "imdb_df.num_critic_for_reviews.fillna(imdb_df.num_critic_for_reviews.median(), inplace=True) "
      ],
      "metadata": {
        "id": "ReeDJUSYIs-s"
      },
      "execution_count": 11,
      "outputs": []
    },
    {
      "cell_type": "code",
      "source": [
        "#duration\n",
        "imdb_df.duration.describe()\n",
        "imdb_df.duration.mode().iloc[0]\n",
        "imdb_df.duration.fillna(imdb_df.duration.mode().iloc[0], inplace=True)"
      ],
      "metadata": {
        "id": "xw99XhJLJRCF"
      },
      "execution_count": 12,
      "outputs": []
    },
    {
      "cell_type": "code",
      "source": [
        "#actor_1_facebook_likes\n",
        "imdb_df.actor_1_facebook_likes.describe()\n",
        "imdb_df.actor_1_facebook_likes.fillna(imdb_df.actor_1_facebook_likes.median(), inplace=True) "
      ],
      "metadata": {
        "id": "Z1c9nJYMI4YA"
      },
      "execution_count": 13,
      "outputs": []
    },
    {
      "cell_type": "code",
      "source": [
        "#actor_2_facebook_likes\n",
        "imdb_df.actor_2_facebook_likes.describe()\n",
        "imdb_df.actor_2_facebook_likes.fillna(imdb_df.actor_2_facebook_likes.median(), inplace=True) "
      ],
      "metadata": {
        "id": "sI8RZ_ShKTb3"
      },
      "execution_count": 14,
      "outputs": []
    },
    {
      "cell_type": "code",
      "source": [
        "#actor_3_facebook_likes\n",
        "imdb_df.actor_3_facebook_likes.describe()\n",
        "imdb_df.actor_3_facebook_likes.fillna(imdb_df.actor_3_facebook_likes.median(), inplace=True) "
      ],
      "metadata": {
        "id": "RVuXRSgYKa9U"
      },
      "execution_count": 15,
      "outputs": []
    },
    {
      "cell_type": "code",
      "source": [
        "imdb_df.gross.describe()\n",
        "imdb_df.gross.fillna(imdb_df.gross.median(), inplace=True) "
      ],
      "metadata": {
        "id": "eH_6MK2zKn4V"
      },
      "execution_count": 16,
      "outputs": []
    },
    {
      "cell_type": "code",
      "source": [
        "imdb_df.isna().sum()"
      ],
      "metadata": {
        "colab": {
          "base_uri": "https://localhost:8080/"
        },
        "id": "0vfqNyA2N3I0",
        "outputId": "586f061a-582e-42c1-cfc8-b5cfac839c20"
      },
      "execution_count": 17,
      "outputs": [
        {
          "output_type": "execute_result",
          "data": {
            "text/plain": [
              "color                       14\n",
              "director_name                0\n",
              "num_critic_for_reviews       0\n",
              "duration                     0\n",
              "director_facebook_likes      0\n",
              "actor_3_facebook_likes       0\n",
              "actor_2_name                 9\n",
              "actor_1_facebook_likes       0\n",
              "gross                        0\n",
              "genres                       0\n",
              "actor_1_name                 6\n",
              "movie_title                  0\n",
              "num_voted_users              0\n",
              "actor_3_name                15\n",
              "facenumber_in_poster         0\n",
              "plot_keywords              112\n",
              "movie_imdb_link              0\n",
              "language                     9\n",
              "country                      1\n",
              "content_rating             202\n",
              "budget                       0\n",
              "title_year                   0\n",
              "actor_2_facebook_likes       0\n",
              "imdb_score                   0\n",
              "aspect_ratio                 0\n",
              "movie_facebook_likes         0\n",
              "dtype: int64"
            ]
          },
          "metadata": {},
          "execution_count": 17
        }
      ]
    },
    {
      "cell_type": "markdown",
      "source": [
        "## II: Interpreting Categorical Columns"
      ],
      "metadata": {
        "id": "DrsizQzFPn4U"
      }
    },
    {
      "cell_type": "code",
      "source": [
        "for col in imdb_df.columns: #Look at the number of unique values in categorical columns\n",
        "   if imdb_df[col].dtype == object:\n",
        "     print(col + ': ' + str(len(imdb_df[col].unique())))"
      ],
      "metadata": {
        "colab": {
          "base_uri": "https://localhost:8080/"
        },
        "id": "plkhQQoS0if6",
        "outputId": "d1c949a5-eaf3-4f3a-8cbb-d713f39ad043"
      },
      "execution_count": 18,
      "outputs": [
        {
          "output_type": "stream",
          "name": "stdout",
          "text": [
            "color: 3\n",
            "director_name: 2174\n",
            "actor_2_name: 2726\n",
            "genres: 858\n",
            "actor_1_name: 1879\n",
            "movie_title: 4426\n",
            "actor_3_name: 3181\n",
            "plot_keywords: 4311\n",
            "movie_imdb_link: 4427\n",
            "language: 45\n",
            "country: 63\n",
            "content_rating: 16\n"
          ]
        }
      ]
    },
    {
      "cell_type": "markdown",
      "source": [
        "### Handling Missing Values"
      ],
      "metadata": {
        "id": "uFRD5tntnobR"
      }
    },
    {
      "cell_type": "code",
      "source": [
        "imdb_df.isna().sum()"
      ],
      "metadata": {
        "id": "DjnXAlwL_IlL",
        "colab": {
          "base_uri": "https://localhost:8080/"
        },
        "outputId": "694061ad-1dbe-4080-9c46-19fc4bd5cd9d"
      },
      "execution_count": 19,
      "outputs": [
        {
          "output_type": "execute_result",
          "data": {
            "text/plain": [
              "color                       14\n",
              "director_name                0\n",
              "num_critic_for_reviews       0\n",
              "duration                     0\n",
              "director_facebook_likes      0\n",
              "actor_3_facebook_likes       0\n",
              "actor_2_name                 9\n",
              "actor_1_facebook_likes       0\n",
              "gross                        0\n",
              "genres                       0\n",
              "actor_1_name                 6\n",
              "movie_title                  0\n",
              "num_voted_users              0\n",
              "actor_3_name                15\n",
              "facenumber_in_poster         0\n",
              "plot_keywords              112\n",
              "movie_imdb_link              0\n",
              "language                     9\n",
              "country                      1\n",
              "content_rating             202\n",
              "budget                       0\n",
              "title_year                   0\n",
              "actor_2_facebook_likes       0\n",
              "imdb_score                   0\n",
              "aspect_ratio                 0\n",
              "movie_facebook_likes         0\n",
              "dtype: int64"
            ]
          },
          "metadata": {},
          "execution_count": 19
        }
      ]
    },
    {
      "cell_type": "code",
      "source": [
        "#Drop NAs from all categorical rows (Director, Actors, Genres)\n",
        "#Unlike with our numerical columns, imputing would not be reasonable\n",
        "imdb_df = imdb_df.dropna(axis = 0, subset = ['director_name', 'actor_1_name', 'actor_2_name', 'actor_3_name', 'language', 'country'])"
      ],
      "metadata": {
        "id": "ovg4gMhKwFTC"
      },
      "execution_count": 20,
      "outputs": []
    },
    {
      "cell_type": "markdown",
      "source": [
        "### Simplifying or Encoding Values"
      ],
      "metadata": {
        "id": "GI-VmU4jn3tp"
      }
    },
    {
      "cell_type": "code",
      "source": [
        "#Color \n",
        "imdb_df.color.describe()\n",
        "(imdb_df['color'].value_counts() / imdb_df['color'].count())*100 \n",
        "#Over 95% of movies in this dataset are in color, making color a poor predictor variable\n",
        "imdb_df.drop(columns = 'color', inplace=True)"
      ],
      "metadata": {
        "id": "7AJtwDAvTpLm"
      },
      "execution_count": 21,
      "outputs": []
    },
    {
      "cell_type": "code",
      "source": [
        "#Director_Name, the director could be well-known by audiences, we can use the frequency (number of moves in list) as an indicator\n",
        "imdb_df['director_num_movies'] = imdb_df.director_name.map(imdb_df.director_name.value_counts())"
      ],
      "metadata": {
        "id": "XPvea0Sf-KSW"
      },
      "execution_count": 22,
      "outputs": []
    },
    {
      "cell_type": "code",
      "source": [
        "# Same is true of actor_name: Actor 1, 2, 3, replace with count\n",
        "imdb_df['actor1_num_movies'] = imdb_df.actor_1_name.map(imdb_df.actor_1_name.value_counts())\n",
        "imdb_df['actor2_num_movies'] = imdb_df.actor_2_name.map(imdb_df.actor_2_name.value_counts())\n",
        "imdb_df['actor3_num_movies'] = imdb_df.actor_3_name.map(imdb_df.actor_3_name.value_counts())\n",
        "imdb_df = imdb_df.drop(columns=['director_name', 'actor_1_name', 'actor_2_name', 'actor_3_name'])"
      ],
      "metadata": {
        "id": "EJGyTVRMlaYP"
      },
      "execution_count": 23,
      "outputs": []
    },
    {
      "cell_type": "code",
      "source": [
        "#Genres \n",
        "imdb_df.genres.unique() #Looks like values are a list of genres, leading to a wide range of values \n",
        "#Slice, find first genre provided, convert remaining into a count of list of genres \n",
        "imdb_df['num_genres'] = imdb_df.genres.apply(lambda x: len(x.split('|')))\n",
        "imdb_df['genre'] = imdb_df.genres.apply(lambda x: x.split('|')[0] if '|' in x else x)\n",
        "imdb_df = imdb_df.drop(columns = ['genres']) #drop genres\n",
        "imdb_df.genre.unique()"
      ],
      "metadata": {
        "colab": {
          "base_uri": "https://localhost:8080/"
        },
        "id": "TAKh9Jw4loFP",
        "outputId": "59ea02ca-e5fd-477f-9add-6493bbbd7fab"
      },
      "execution_count": 24,
      "outputs": [
        {
          "output_type": "execute_result",
          "data": {
            "text/plain": [
              "array(['Action', 'Adventure', 'Drama', 'Animation', 'Comedy', 'Mystery',\n",
              "       'Crime', 'Biography', 'Fantasy', 'Documentary', 'Sci-Fi', 'Horror',\n",
              "       'Romance', 'Family', 'Thriller', 'Western', 'Musical', 'Film-Noir'],\n",
              "      dtype=object)"
            ]
          },
          "metadata": {},
          "execution_count": 24
        }
      ]
    },
    {
      "cell_type": "code",
      "source": [
        "imdb_df.language.describe()\n",
        "(imdb_df['language'].value_counts() / imdb_df['language'].count())*100 \n",
        "#Over 93% of movies in this dataset are in English, making language a poor predictor variable\n",
        "imdb_df = imdb_df.drop(columns = 'language')"
      ],
      "metadata": {
        "id": "TWvD08hsmhHe"
      },
      "execution_count": 25,
      "outputs": []
    },
    {
      "cell_type": "code",
      "source": [
        "imdb_df.country.describe()\n",
        "country_freq = (imdb_df['country'].value_counts() / imdb_df['country'].count())*100 \n",
        "top_5 = country_freq[0:5]\n",
        "#Our top 5 frequent cover > 90% of data, we can consolidate the other countries into an 'Other_Country' column \n",
        "def groupCountry(x):\n",
        "  if (x not in top_5):\n",
        "    return 'Other'\n",
        "  return x\n",
        "\n",
        "imdb_df['country'] = imdb_df['country'].apply(lambda x: groupCountry(x))\n",
        "(imdb_df['country'].value_counts() / imdb_df['country'].count())*100 "
      ],
      "metadata": {
        "colab": {
          "base_uri": "https://localhost:8080/"
        },
        "id": "iMx-kYzG2QK1",
        "outputId": "0801fcb9-532d-45d9-f868-1a9e3ccd99a5"
      },
      "execution_count": 26,
      "outputs": [
        {
          "output_type": "execute_result",
          "data": {
            "text/plain": [
              "USA        77.127541\n",
              "UK          8.331472\n",
              "Other       7.303998\n",
              "France      2.881394\n",
              "Canada      2.367657\n",
              "Germany     1.987938\n",
              "Name: country, dtype: float64"
            ]
          },
          "metadata": {},
          "execution_count": 26
        }
      ]
    },
    {
      "cell_type": "code",
      "source": [
        "#content_rating\n",
        "imdb_df.content_rating.describe()\n",
        "\n",
        "#Let's first group by similar age ranges \n",
        "#TV-G --> G\n",
        "imdb_df.content_rating.replace(to_replace= 'TV-G', value = 'G', inplace = True)\n",
        "#TV-PG, GP --> PG\n",
        "imdb_df.content_rating.replace(to_replace= ['TV-PG', 'GP'], value = 'PG', inplace = True)\n",
        "#TV-14 --> PG-13\n",
        "imdb_df.content_rating.replace(to_replace= ['TV-14', 'PG-13'], value = 'PG13', inplace = True)\n",
        "#Unrated, Not Rated, Approved, Passed -> Other\n",
        "imdb_df.content_rating.replace(to_replace= ['Unrated', 'Not Rated', 'Approved', 'Passed'], value = 'Other', inplace = True)\n",
        "#X, NC-17, M --> R\n",
        "imdb_df.content_rating.fillna(value='Other', inplace=True)\n",
        "imdb_df.content_rating.replace(to_replace= ['X', 'NC-17', 'M'], value = 'R', inplace = True)\n",
        "(imdb_df['content_rating'].value_counts() / imdb_df['content_rating'].count())*100 "
      ],
      "metadata": {
        "colab": {
          "base_uri": "https://localhost:8080/"
        },
        "id": "Pa85gkMT2lvg",
        "outputId": "29513007-0c1b-4dc8-d77b-08b2d4a04bc0"
      },
      "execution_count": 27,
      "outputs": [
        {
          "output_type": "execute_result",
          "data": {
            "text/plain": [
              "R        43.846326\n",
              "PG13     30.466830\n",
              "PG       14.719678\n",
              "Other     8.532499\n",
              "G         2.434666\n",
              "Name: content_rating, dtype: float64"
            ]
          },
          "metadata": {},
          "execution_count": 27
        }
      ]
    },
    {
      "cell_type": "code",
      "source": [
        "\n",
        "genre_freq = (imdb_df['genre'].value_counts() / imdb_df['genre'].count())*100\n",
        "top_10 = genre_freq[0:10]\n",
        "def groupGenre(x):\n",
        "  if (x not in top_10):\n",
        "    return 'Other'\n",
        "  return x\n",
        "\n",
        "imdb_df['genre'] = imdb_df['genre'].apply(lambda x: groupGenre(x))\n",
        "(imdb_df['genre'].value_counts() / imdb_df['genre'].count())*100  "
      ],
      "metadata": {
        "colab": {
          "base_uri": "https://localhost:8080/"
        },
        "id": "A97rGc2x0Naf",
        "outputId": "938ca480-d914-425d-cdce-bf4e4159ac25"
      },
      "execution_count": 28,
      "outputs": [
        {
          "output_type": "execute_result",
          "data": {
            "text/plain": [
              "Comedy         25.887871\n",
              "Action         24.257315\n",
              "Drama          18.360509\n",
              "Adventure       9.559973\n",
              "Crime           6.589234\n",
              "Biography       5.182042\n",
              "Horror          4.690641\n",
              "Other           2.032611\n",
              "Documentary     1.295510\n",
              "Animation       1.116819\n",
              "Fantasy         1.027474\n",
              "Name: genre, dtype: float64"
            ]
          },
          "metadata": {},
          "execution_count": 28
        }
      ]
    },
    {
      "cell_type": "markdown",
      "source": [
        "For movie_title, movie_imdb_link, and plot_keywords, we see these features are unique to each entry. Thus, we would not consider them to be strong predictors of imdb_score"
      ],
      "metadata": {
        "id": "m2TgdQRtHFEC"
      }
    },
    {
      "cell_type": "code",
      "source": [
        "#movie_title, very unique to each entry - not a strong predictor variable\n",
        "(imdb_df['movie_title'].value_counts() / imdb_df['movie_title'].count())*100 \n",
        "imdb_df.drop(columns='movie_title', inplace=True, axis = 0)"
      ],
      "metadata": {
        "id": "CoUq2KigpJYN"
      },
      "execution_count": 29,
      "outputs": []
    },
    {
      "cell_type": "code",
      "source": [
        "(imdb_df['movie_imdb_link'].value_counts() / imdb_df['movie_imdb_link'].count())*100 \n",
        "imdb_df.drop(columns='movie_imdb_link', inplace=True, axis = 0)"
      ],
      "metadata": {
        "id": "jZl3sPNS3ON-"
      },
      "execution_count": 30,
      "outputs": []
    },
    {
      "cell_type": "code",
      "source": [
        "#plot_keywords: similar to movie title - not a strong predictor variable\n",
        "(imdb_df['plot_keywords'].value_counts() / imdb_df['plot_keywords'].count())*100  \n",
        "imdb_df.drop(columns='plot_keywords', inplace=True, axis = 0)"
      ],
      "metadata": {
        "id": "ba5eQ-Rvp1og"
      },
      "execution_count": 31,
      "outputs": []
    },
    {
      "cell_type": "markdown",
      "source": [
        "The genre, content_rating, and country features of movies can be one-hot-encoded for use in the model. "
      ],
      "metadata": {
        "id": "cVs0XKM2HTOC"
      }
    },
    {
      "cell_type": "code",
      "source": [
        "imdb_df = pd.get_dummies(data=imdb_df, columns=['genre', 'content_rating', 'country'])"
      ],
      "metadata": {
        "id": "YIFRY3KIyged"
      },
      "execution_count": 33,
      "outputs": []
    },
    {
      "cell_type": "code",
      "source": [
        "imdb_df.drop(axis=0, inplace=True, columns=['genre_Other', 'content_rating_Other', 'country_Other'])"
      ],
      "metadata": {
        "id": "8qUrstBu3gYH"
      },
      "execution_count": 34,
      "outputs": []
    },
    {
      "cell_type": "markdown",
      "source": [
        "# Statistically Modeling imdb_score"
      ],
      "metadata": {
        "id": "iAhbKuAYultq"
      }
    },
    {
      "cell_type": "markdown",
      "source": [
        "Before setting up the models, we break up the columns in the independent variables (X) and our dependent variable of interest, imdb_score (y)"
      ],
      "metadata": {
        "id": "slz1bvicBniI"
      }
    },
    {
      "cell_type": "code",
      "source": [
        "y = imdb_df['imdb_score']\n",
        "X = imdb_df.drop('imdb_score', axis = 1)"
      ],
      "metadata": {
        "id": "5xxef5I1Bmmc"
      },
      "execution_count": 90,
      "outputs": []
    },
    {
      "cell_type": "markdown",
      "source": [
        "Our histograms from Data Exploration indiciated that the continuous variables were largely right-skewed. Thus, we can apply a Log Transformation."
      ],
      "metadata": {
        "id": "FfQSlKaPv7UA"
      }
    },
    {
      "cell_type": "code",
      "source": [
        "X = np.log1p(X) #we use log1p, as some variables are 0 and would not be handled correctly with the log function"
      ],
      "metadata": {
        "id": "yWKVf3BUvpfT"
      },
      "execution_count": 91,
      "outputs": []
    },
    {
      "cell_type": "markdown",
      "source": [
        "## I: Train / Test Split and Scaling"
      ],
      "metadata": {
        "id": "IaZGEQRVfc5u"
      }
    },
    {
      "cell_type": "markdown",
      "source": [
        "We break up our data into train (80%) and test (20%) sets"
      ],
      "metadata": {
        "id": "oU4hVnkcB5so"
      }
    },
    {
      "cell_type": "code",
      "source": [
        "from sklearn.model_selection import train_test_split\n",
        "X_train, X_test, y_train, y_test = train_test_split(X, y, test_size = 0.2, random_state = 42)\n",
        "X_train.shape, y_train.shape, X_test.shape, y_test.shape"
      ],
      "metadata": {
        "id": "fEzXpRZKPbtn",
        "colab": {
          "base_uri": "https://localhost:8080/"
        },
        "outputId": "0699f753-f7a6-4d75-8fa9-39acb4aacba5"
      },
      "execution_count": 92,
      "outputs": [
        {
          "output_type": "execute_result",
          "data": {
            "text/plain": [
              "((3581, 37), (3581,), (896, 37), (896,))"
            ]
          },
          "metadata": {},
          "execution_count": 92
        }
      ]
    },
    {
      "cell_type": "markdown",
      "source": [
        "We can then use a RobustScaler (robust against outliers) to scale the continuous variables in our dataset after splitting into train / test sets."
      ],
      "metadata": {
        "id": "lnBy-aplCcsl"
      }
    },
    {
      "cell_type": "code",
      "source": [
        "cols_cont = [col for col in X.columns if 'genre_' not in col and 'content' not in col and 'country' not in col] #columns with continuous data"
      ],
      "metadata": {
        "id": "F29dMfSgvH2e"
      },
      "execution_count": 93,
      "outputs": []
    },
    {
      "cell_type": "code",
      "source": [
        "from sklearn.preprocessing import RobustScaler\n",
        "scaler = RobustScaler()\n",
        "\n",
        "X_train[cols_cont] = scaler.fit_transform(X_train[cols_cont])\n",
        "X_test[cols_cont] = scaler.fit_transform(X_test[cols_cont])\n",
        "X[cols_cont] = scaler.fit_transform(X[cols_cont])"
      ],
      "metadata": {
        "id": "7j5ay72NPHzF"
      },
      "execution_count": 94,
      "outputs": []
    },
    {
      "cell_type": "markdown",
      "source": [
        "## II: Single Linear Regressions for Continuous Variables"
      ],
      "metadata": {
        "id": "KnbSAMjVfC2C"
      }
    },
    {
      "cell_type": "markdown",
      "source": [
        "After selecting the independent variables for the model, we can also see how good of a predictor each variable is in a single feature model. First, I'll test the continuous variables and note the R^2, intercept, coefficent and p-value from a single feature regression model. "
      ],
      "metadata": {
        "id": "T2ViEd6BAkjX"
      }
    },
    {
      "cell_type": "code",
      "source": [
        "for col in cols_cont:\n",
        "  print('\\nimdb_score:' + col)\n",
        "  f = 'imdb_score~' + col\n",
        "  model = sm.ols(formula = f, data = imdb_df).fit()\n",
        "  X_new = pd.DataFrame({col: [X[col].min(), X[col].max()]});\n",
        "  pred = model.predict(X_new)\n",
        "  print('R squared: ' + str(model.rsquared) + ' ; Intercept: ' + str(model.params[0]) + ' ; Coefficient: ' + str(model.params[1]) + ' ; P-Value: ' + str(model.pvalues[1]))\n",
        "  if model.pvalues[1] > .05: \n",
        "    print ('p-value > .05')"
      ],
      "metadata": {
        "colab": {
          "base_uri": "https://localhost:8080/"
        },
        "id": "SvVKF7h65lA5",
        "outputId": "c930db38-17ae-481b-b230-33f4e74fac83"
      },
      "execution_count": 95,
      "outputs": [
        {
          "output_type": "stream",
          "name": "stdout",
          "text": [
            "\n",
            "imdb_score:num_critic_for_reviews\n",
            "R squared: 0.11643396495480851 ; Intercept: 5.961791291975605 ; Coefficient: 0.003091863655882537 ; P-Value: 1.7887011077515203e-122\n",
            "\n",
            "imdb_score:duration\n",
            "R squared: 0.12596745724162817 ; Intercept: 4.537493041065258 ; Coefficient: 0.01728921260366462 ; P-Value: 4.940049045085934e-133\n",
            "\n",
            "imdb_score:director_facebook_likes\n",
            "R squared: 0.031583186192020496 ; Intercept: 6.369038283354615 ; Coefficient: 6.760555165130341e-05 ; P-Value: 4.348201495426683e-33\n",
            "\n",
            "imdb_score:actor_3_facebook_likes\n",
            "R squared: 0.0039599672425534305 ; Intercept: 6.3911787581560064 ; Coefficient: 4.0728966245545984e-05 ; P-Value: 2.5138175128996844e-05\n",
            "\n",
            "imdb_score:actor_1_facebook_likes\n",
            "R squared: 0.006269012777468719 ; Intercept: 6.378617986520971 ; Coefficient: 5.791334204293218e-06 ; P-Value: 1.1290792314944836e-07\n",
            "\n",
            "imdb_score:gross\n",
            "R squared: 0.03913964493833677 ; Intercept: 6.256486387266697 ; Coefficient: 3.3968943034690246e-09 ; P-Value: 9.554899357714495e-41\n",
            "\n",
            "imdb_score:num_voted_users\n",
            "R squared: 0.2004635785063945 ; Intercept: 6.103662186185188 ; Coefficient: 3.4662086297572862e-06 ; P-Value: 1.0609733851087789e-219\n",
            "\n",
            "imdb_score:facenumber_in_poster\n",
            "R squared: 0.0041505409762491174 ; Intercept: 6.467128825353212 ; Coefficient: -0.03530186773875833 ; P-Value: 1.603565094357971e-05\n",
            "\n",
            "imdb_score:budget\n",
            "R squared: 0.0009923203168806793 ; Intercept: 6.412041460249158 ; Coefficient: 1.6867735185482495e-10 ; P-Value: 0.035058127672124934\n",
            "\n",
            "imdb_score:title_year\n",
            "R squared: 0.04431686467245777 ; Intercept: 44.656499269729274 ; Coefficient: -0.019097217652476604 ; P-Value: 5.053222127513716e-46\n",
            "\n",
            "imdb_score:actor_2_facebook_likes\n",
            "R squared: 0.00913568362172501 ; Intercept: 6.374300102589244 ; Coefficient: 2.5270735711785283e-05 ; P-Value: 1.4721298628180222e-10\n",
            "\n",
            "imdb_score:aspect_ratio\n",
            "R squared: 0.0013946328069009972 ; Intercept: 6.543368612893493 ; Coefficient: -0.05825371682260103 ; P-Value: 0.0124569689805284\n",
            "\n",
            "imdb_score:movie_facebook_likes\n",
            "R squared: 0.0700590795207725 ; Intercept: 6.300686584352857 ; Coefficient: 1.464693388529569e-05 ; P-Value: 1.1786193086036026e-72\n",
            "\n",
            "imdb_score:director_num_movies\n",
            "R squared: 0.04476817864621274 ; Intercept: 6.178441438962558 ; Coefficient: 0.05540485442380205 ; P-Value: 1.7473806924487229e-46\n",
            "\n",
            "imdb_score:actor1_num_movies\n",
            "R squared: 0.023251730130058212 ; Intercept: 6.2723785676153465 ; Coefficient: 0.01724398602473258 ; P-Value: 1.0665687025870035e-24\n",
            "\n",
            "imdb_score:actor2_num_movies\n",
            "R squared: 0.004264441427871857 ; Intercept: 6.338367024480637 ; Coefficient: 0.0289065300200872 ; P-Value: 1.2262031371008732e-05\n",
            "\n",
            "imdb_score:actor3_num_movies\n",
            "R squared: 0.0014967415754330027 ; Intercept: 6.357375155620514 ; Coefficient: 0.03107623242759794 ; P-Value: 0.009629471081821418\n",
            "\n",
            "imdb_score:num_genres\n",
            "R squared: 0.00021126488671696642 ; Intercept: 6.379284497664414 ; Coefficient: 0.013550172703730424 ; P-Value: 0.3308917786281239\n",
            "p-value > .05\n"
          ]
        }
      ]
    },
    {
      "cell_type": "markdown",
      "source": [
        "From our OLS, we notice that num_genres is the sole variable with a p-value > 0.05. Thus, we drop num_genres from our model moving forwards"
      ],
      "metadata": {
        "id": "wovM1w4Gw_yT"
      }
    },
    {
      "cell_type": "code",
      "source": [
        "X_train.drop(columns = ['num_genres'], inplace=True, axis = 0)\n",
        "X_test.drop(columns = ['num_genres'], inplace=True, axis = 0)"
      ],
      "metadata": {
        "id": "H1sojr6X9eD5"
      },
      "execution_count": 96,
      "outputs": []
    },
    {
      "cell_type": "markdown",
      "source": [
        "## III: Multiple Linear Regressions for Categorical Variables"
      ],
      "metadata": {
        "id": "_XzMvibDfPy5"
      }
    },
    {
      "cell_type": "markdown",
      "source": [
        "We can continue to test each of the categorical variables: genre, content rating, and country. As these variables have already been one hot encoded, we can look at the results of the OLS to determine which we should keep in the model. "
      ],
      "metadata": {
        "id": "ZLR3lc8aDdQp"
      }
    },
    {
      "cell_type": "code",
      "source": [
        "cols_genre = [col for col in X.columns if 'genre_' in col]\n",
        "cols_rating = [col for col in X.columns if 'content' in col]\n",
        "cols_country = [col for col in X.columns if 'country' in col]\n",
        "\n",
        "cols = [cols_genre, cols_rating, cols_country]\n",
        "\n",
        "for col in cols:\n",
        "    sum_cols = \"+\".join(col)\n",
        "    f = \"imdb_score ~\" + sum_cols\n",
        "    model = sm.ols(formula= f, data= imdb_df).fit()\n",
        "    print(model.summary())"
      ],
      "metadata": {
        "colab": {
          "base_uri": "https://localhost:8080/"
        },
        "id": "mvnB1cwTrBML",
        "outputId": "8b2e1526-101e-4f50-bdd5-fc200d5c156e"
      },
      "execution_count": 97,
      "outputs": [
        {
          "output_type": "stream",
          "name": "stdout",
          "text": [
            "                            OLS Regression Results                            \n",
            "==============================================================================\n",
            "Dep. Variable:             imdb_score   R-squared:                       0.102\n",
            "Model:                            OLS   Adj. R-squared:                  0.100\n",
            "Method:                 Least Squares   F-statistic:                     50.63\n",
            "Date:                Mon, 07 Feb 2022   Prob (F-statistic):           8.32e-97\n",
            "Time:                        01:38:55   Log-Likelihood:                -6588.1\n",
            "No. Observations:                4477   AIC:                         1.320e+04\n",
            "Df Residuals:                    4466   BIC:                         1.327e+04\n",
            "Df Model:                          10                                         \n",
            "Covariance Type:            nonrobust                                         \n",
            "=====================================================================================\n",
            "                        coef    std err          t      P>|t|      [0.025      0.975]\n",
            "-------------------------------------------------------------------------------------\n",
            "Intercept             6.1791      0.111     55.855      0.000       5.962       6.396\n",
            "genre_Action          0.0445      0.115      0.387      0.699      -0.181       0.270\n",
            "genre_Adventure       0.3426      0.122      2.812      0.005       0.104       0.581\n",
            "genre_Animation       0.4469      0.186      2.405      0.016       0.083       0.811\n",
            "genre_Biography       0.9761      0.131      7.477      0.000       0.720       1.232\n",
            "genre_Comedy         -0.0257      0.115     -0.224      0.823      -0.251       0.200\n",
            "genre_Crime           0.6833      0.127      5.399      0.000       0.435       0.931\n",
            "genre_Documentary     0.8829      0.177      4.980      0.000       0.535       1.231\n",
            "genre_Drama           0.6059      0.117      5.197      0.000       0.377       0.834\n",
            "genre_Fantasy         0.2252      0.191      1.180      0.238      -0.149       0.600\n",
            "genre_Horror         -0.4867      0.132     -3.675      0.000      -0.746      -0.227\n",
            "==============================================================================\n",
            "Omnibus:                      485.298   Durbin-Watson:                   1.878\n",
            "Prob(Omnibus):                  0.000   Jarque-Bera (JB):              784.669\n",
            "Skew:                          -0.771   Prob(JB):                    4.09e-171\n",
            "Kurtosis:                       4.353   Cond. No.                         26.1\n",
            "==============================================================================\n",
            "\n",
            "Warnings:\n",
            "[1] Standard Errors assume that the covariance matrix of the errors is correctly specified.\n",
            "                            OLS Regression Results                            \n",
            "==============================================================================\n",
            "Dep. Variable:             imdb_score   R-squared:                       0.015\n",
            "Model:                            OLS   Adj. R-squared:                  0.014\n",
            "Method:                 Least Squares   F-statistic:                     17.05\n",
            "Date:                Mon, 07 Feb 2022   Prob (F-statistic):           6.95e-14\n",
            "Time:                        01:38:55   Log-Likelihood:                -6794.6\n",
            "No. Observations:                4477   AIC:                         1.360e+04\n",
            "Df Residuals:                    4472   BIC:                         1.363e+04\n",
            "Df Model:                           4                                         \n",
            "Covariance Type:            nonrobust                                         \n",
            "=======================================================================================\n",
            "                          coef    std err          t      P>|t|      [0.025      0.975]\n",
            "---------------------------------------------------------------------------------------\n",
            "Intercept               6.5518      0.057    115.950      0.000       6.441       6.663\n",
            "content_rating_G       -0.0454      0.120     -0.379      0.705      -0.281       0.190\n",
            "content_rating_PG      -0.2506      0.071     -3.529      0.000      -0.390      -0.111\n",
            "content_rating_PG13    -0.2974      0.064     -4.651      0.000      -0.423      -0.172\n",
            "content_rating_R       -0.0102      0.062     -0.165      0.869      -0.131       0.111\n",
            "==============================================================================\n",
            "Omnibus:                      436.549   Durbin-Watson:                   1.886\n",
            "Prob(Omnibus):                  0.000   Jarque-Bera (JB):              627.886\n",
            "Skew:                          -0.759   Prob(JB):                    4.53e-137\n",
            "Kurtosis:                       4.031   Cond. No.                         9.97\n",
            "==============================================================================\n",
            "\n",
            "Warnings:\n",
            "[1] Standard Errors assume that the covariance matrix of the errors is correctly specified.\n",
            "                            OLS Regression Results                            \n",
            "==============================================================================\n",
            "Dep. Variable:             imdb_score   R-squared:                       0.023\n",
            "Model:                            OLS   Adj. R-squared:                  0.022\n",
            "Method:                 Least Squares   F-statistic:                     20.85\n",
            "Date:                Mon, 07 Feb 2022   Prob (F-statistic):           1.18e-20\n",
            "Time:                        01:38:55   Log-Likelihood:                -6776.9\n",
            "No. Observations:                4477   AIC:                         1.357e+04\n",
            "Df Residuals:                    4471   BIC:                         1.360e+04\n",
            "Df Model:                           5                                         \n",
            "Covariance Type:            nonrobust                                         \n",
            "===================================================================================\n",
            "                      coef    std err          t      P>|t|      [0.025      0.975]\n",
            "-----------------------------------------------------------------------------------\n",
            "Intercept           6.7572      0.061    111.067      0.000       6.638       6.876\n",
            "country_Canada     -0.7062      0.123     -5.744      0.000      -0.947      -0.465\n",
            "country_France     -0.1045      0.114     -0.913      0.361      -0.329       0.120\n",
            "country_Germany    -0.4774      0.132     -3.630      0.000      -0.735      -0.220\n",
            "country_UK          0.0302      0.083      0.363      0.717      -0.133       0.194\n",
            "country_USA        -0.4041      0.064     -6.349      0.000      -0.529      -0.279\n",
            "==============================================================================\n",
            "Omnibus:                      438.170   Durbin-Watson:                   1.884\n",
            "Prob(Omnibus):                  0.000   Jarque-Bera (JB):              639.539\n",
            "Skew:                          -0.754   Prob(JB):                    1.34e-139\n",
            "Kurtosis:                       4.075   Cond. No.                         13.6\n",
            "==============================================================================\n",
            "\n",
            "Warnings:\n",
            "[1] Standard Errors assume that the covariance matrix of the errors is correctly specified.\n"
          ]
        }
      ]
    },
    {
      "cell_type": "markdown",
      "source": [
        "From the single feature OLS results, we notice that content_rating had the lowest R^2 and can delete it (all corresponding dummy variables) moving forward. The country variable has a low R^2, as well, so we can also drop it from the model."
      ],
      "metadata": {
        "id": "U5j3Av9FD9wj"
      }
    },
    {
      "cell_type": "code",
      "source": [
        "X_train.drop(columns = cols_rating, inplace=True, axis = 0)\n",
        "X_test.drop(columns = cols_rating, inplace=True, axis = 0)\n",
        "X_train.drop(columns = cols_country, inplace=True, axis = 0)\n",
        "X_test.drop(columns = cols_country, inplace=True, axis = 0)"
      ],
      "metadata": {
        "id": "h2PSvYZ0-pjr"
      },
      "execution_count": 98,
      "outputs": []
    },
    {
      "cell_type": "markdown",
      "source": [
        "## IV: Recursive Feature Elimination"
      ],
      "metadata": {
        "id": "rgzEz2qOfyX9"
      }
    },
    {
      "cell_type": "code",
      "source": [
        "from sklearn.linear_model import LinearRegression\n",
        "from sklearn.metrics import mean_squared_error as mse \n",
        "from sklearn.metrics import r2_score as rsquared\n",
        "\n",
        "reg = LinearRegression()\n",
        "reg.fit(X_train, y_train)\n",
        "\n",
        "y_pred = reg.predict(X_test)\n",
        "print(\"Coefficients: \\n\", reg.coef_)\n",
        "# The mean squared error\n",
        "print(\"Mean squared error: %.2f\" % mse(y_test, y_pred))\n",
        "# The coefficient of determination: 1 is perfect prediction\n",
        "print(\"RSquared: %.2f\" % rsquared(y_test, y_pred))"
      ],
      "metadata": {
        "colab": {
          "base_uri": "https://localhost:8080/"
        },
        "id": "vLod1ctN-5Un",
        "outputId": "649ad231-1d4d-40ea-925a-120470479a2b"
      },
      "execution_count": 99,
      "outputs": [
        {
          "output_type": "stream",
          "name": "stdout",
          "text": [
            "Coefficients: \n",
            " [ 1.81181470e-01  3.08005218e-01  1.88345779e-02 -1.47291053e-01\n",
            " -1.30168047e-01 -5.75855627e-02  5.87461963e-01 -3.80223948e-02\n",
            " -3.92271154e-01 -1.54751106e-01  7.26243772e-04  4.90089296e-02\n",
            "  1.46385030e-01  7.94512678e-02  2.82548520e-01  2.85887035e-02\n",
            "  2.86661074e-02 -1.63523129e-01  4.83902777e-01  1.06095024e+00\n",
            "  8.09632200e-01 -1.14751096e-03  4.33647974e-01  1.73098932e+00\n",
            "  5.16819124e-01 -2.46972646e-01 -8.45738586e-01]\n",
            "Mean squared error: 0.73\n",
            "RSquared: 0.35\n"
          ]
        }
      ]
    },
    {
      "cell_type": "code",
      "source": [
        "from sklearn.model_selection import cross_val_score\n",
        "def cross_validate(X, y):\n",
        "  score = cross_val_score(reg, X, y, cv = 5, scoring = \"r2\")\n",
        "  print(\"RSquared Mean Score: \", score.mean())\n",
        "  print(score)\n",
        "\n",
        "cross_validate(X, y)"
      ],
      "metadata": {
        "colab": {
          "base_uri": "https://localhost:8080/"
        },
        "id": "Duy4z3Y-CtFt",
        "outputId": "8542bcbc-69ab-4457-954c-3834ed1c7ab0"
      },
      "execution_count": 100,
      "outputs": [
        {
          "output_type": "stream",
          "name": "stdout",
          "text": [
            "RSquared Mean Score:  0.4038758285431605\n",
            "[0.39727268 0.48042708 0.47892441 0.40377071 0.25898426]\n"
          ]
        }
      ]
    },
    {
      "cell_type": "markdown",
      "source": [
        "The results of our 5-fold cross-validation are alright, but we notice that our MSE is rather high at .7 and our RSquared is just .38. We may still have issues with dimensionality, so we can explore a new model using feature selection to remove features that may be a source of noise in this initial model. We will use SKLearn's RFE to identify the 20 most important features for imdb_score"
      ],
      "metadata": {
        "id": "ug6b_VfIxxhV"
      }
    },
    {
      "cell_type": "code",
      "source": [
        "from sklearn.feature_selection import RFE \n",
        "\n",
        "selector = RFE(reg, n_features_to_select = 20)\n",
        "selector = selector.fit(X_train, y_train)"
      ],
      "metadata": {
        "id": "MKazj2XGDl7u"
      },
      "execution_count": 101,
      "outputs": []
    },
    {
      "cell_type": "markdown",
      "source": [
        "Below, we can see whether the RFE classified the feature to be in the 20 most important. "
      ],
      "metadata": {
        "id": "7gvabhRHICUg"
      }
    },
    {
      "cell_type": "code",
      "source": [
        "list(zip(X_train.columns,selector.support_,selector.ranking_))"
      ],
      "metadata": {
        "colab": {
          "base_uri": "https://localhost:8080/"
        },
        "id": "zlJxlh56R38L",
        "outputId": "824b38e8-8844-4dbb-9cd6-e2a9613b7367"
      },
      "execution_count": 102,
      "outputs": [
        {
          "output_type": "execute_result",
          "data": {
            "text/plain": [
              "[('num_critic_for_reviews', True, 1),\n",
              " ('duration', True, 1),\n",
              " ('director_facebook_likes', False, 6),\n",
              " ('actor_3_facebook_likes', True, 1),\n",
              " ('actor_1_facebook_likes', True, 1),\n",
              " ('gross', True, 1),\n",
              " ('num_voted_users', True, 1),\n",
              " ('facenumber_in_poster', False, 3),\n",
              " ('budget', True, 1),\n",
              " ('title_year', True, 1),\n",
              " ('actor_2_facebook_likes', False, 8),\n",
              " ('aspect_ratio', False, 2),\n",
              " ('movie_facebook_likes', True, 1),\n",
              " ('director_num_movies', True, 1),\n",
              " ('actor1_num_movies', True, 1),\n",
              " ('actor2_num_movies', False, 4),\n",
              " ('actor3_num_movies', False, 5),\n",
              " ('genre_Action', True, 1),\n",
              " ('genre_Adventure', True, 1),\n",
              " ('genre_Animation', True, 1),\n",
              " ('genre_Biography', True, 1),\n",
              " ('genre_Comedy', False, 7),\n",
              " ('genre_Crime', True, 1),\n",
              " ('genre_Documentary', True, 1),\n",
              " ('genre_Drama', True, 1),\n",
              " ('genre_Fantasy', True, 1),\n",
              " ('genre_Horror', True, 1)]"
            ]
          },
          "metadata": {},
          "execution_count": 102
        }
      ]
    },
    {
      "cell_type": "code",
      "source": [
        "col_rfe = X_train.columns[selector.support_] #Top 20 Features selected through RFE"
      ],
      "metadata": {
        "id": "hKZAw--0SNsG"
      },
      "execution_count": 103,
      "outputs": []
    },
    {
      "cell_type": "code",
      "source": [
        "X_train_rfe = X_train[col_rfe] #new features in training dataframe, containing only selected features"
      ],
      "metadata": {
        "id": "O6CuAeLbSbEY"
      },
      "execution_count": 104,
      "outputs": []
    },
    {
      "cell_type": "code",
      "source": [
        "X_test_rfe = X_test[col_rfe] #new features in testing dataframe, containing only selected features"
      ],
      "metadata": {
        "id": "SvavVAZp1mNq"
      },
      "execution_count": 105,
      "outputs": []
    },
    {
      "cell_type": "markdown",
      "source": [
        "## V: Linear Regression, Reduced Features"
      ],
      "metadata": {
        "id": "2PtYINB_gZZs"
      }
    },
    {
      "cell_type": "code",
      "source": [
        "reg2 = LinearRegression()\n",
        "reg2.fit(X_train_rfe, y_train)\n",
        "\n",
        "y_pred = reg2.predict(X_test_rfe)\n",
        "print(\"Coefficients: \\n\", reg.coef_)\n",
        "# The mean squared error\n",
        "lin_reg_mse = mse(y_test, y_pred)\n",
        "lin_reg_rs = rsquared(y_test, y_pred)\n",
        "print(\"Mean squared error: %.2f\" % lin_reg_mse)\n",
        "# The Rsquared, coefficient of determination: \n",
        "print(\"RSquared: %.2f\" % lin_reg_rs)"
      ],
      "metadata": {
        "colab": {
          "base_uri": "https://localhost:8080/"
        },
        "id": "GAgpWPPUSe3J",
        "outputId": "3867dccb-528c-494b-f3f5-3f2bbb78ac62"
      },
      "execution_count": 106,
      "outputs": [
        {
          "output_type": "stream",
          "name": "stdout",
          "text": [
            "Coefficients: \n",
            " [ 1.81181470e-01  3.08005218e-01  1.88345779e-02 -1.47291053e-01\n",
            " -1.30168047e-01 -5.75855627e-02  5.87461963e-01 -3.80223948e-02\n",
            " -3.92271154e-01 -1.54751106e-01  7.26243772e-04  4.90089296e-02\n",
            "  1.46385030e-01  7.94512678e-02  2.82548520e-01  2.85887035e-02\n",
            "  2.86661074e-02 -1.63523129e-01  4.83902777e-01  1.06095024e+00\n",
            "  8.09632200e-01 -1.14751096e-03  4.33647974e-01  1.73098932e+00\n",
            "  5.16819124e-01 -2.46972646e-01 -8.45738586e-01]\n",
            "Mean squared error: 0.73\n",
            "RSquared: 0.35\n"
          ]
        }
      ]
    },
    {
      "cell_type": "markdown",
      "source": [
        "We observe that the r2 score for the Multiple Regression Model is low of about 35%. We can try out more advanced ensemble models to help the model fit the data correctly. "
      ],
      "metadata": {
        "id": "ssUxgbqtGTW5"
      }
    },
    {
      "cell_type": "markdown",
      "source": [
        "## VI: Random Forest Regression"
      ],
      "metadata": {
        "id": "KgG-0iXGg8do"
      }
    },
    {
      "cell_type": "code",
      "source": [
        "from sklearn.ensemble import RandomForestRegressor\n",
        "rf_regressor = RandomForestRegressor(n_estimators = 500)\n",
        "rf_regressor.fit(X_train_rfe, y_train)\n",
        "rf_pred = rf_regressor.predict(X_test_rfe)\n",
        "print ('R-Squared: ' + str(rsquared(y_test, y_pred)))\n",
        "print ('MSE: ' + str(mse(rf_pred, y_test)))"
      ],
      "metadata": {
        "colab": {
          "base_uri": "https://localhost:8080/"
        },
        "id": "frm7YXJkTCtg",
        "outputId": "0373dc4a-6db8-4085-9246-a77ac4abff43"
      },
      "execution_count": 107,
      "outputs": [
        {
          "output_type": "stream",
          "name": "stdout",
          "text": [
            "R-Squared: 0.3510047188970945\n",
            "MSE: 0.5955428907142852\n"
          ]
        }
      ]
    },
    {
      "cell_type": "markdown",
      "source": [
        "### Hyperparameter Tuning"
      ],
      "metadata": {
        "id": "-kHuPJX0hK8A"
      }
    },
    {
      "cell_type": "code",
      "source": [
        "from pprint import pprint\n",
        "pprint(rf_regressor.get_params())"
      ],
      "metadata": {
        "colab": {
          "base_uri": "https://localhost:8080/"
        },
        "id": "2eZPh8vTHrN9",
        "outputId": "7f4eb039-509d-4326-db50-88b1f571af3d"
      },
      "execution_count": 108,
      "outputs": [
        {
          "output_type": "stream",
          "name": "stdout",
          "text": [
            "{'bootstrap': True,\n",
            " 'ccp_alpha': 0.0,\n",
            " 'criterion': 'squared_error',\n",
            " 'max_depth': None,\n",
            " 'max_features': 'auto',\n",
            " 'max_leaf_nodes': None,\n",
            " 'max_samples': None,\n",
            " 'min_impurity_decrease': 0.0,\n",
            " 'min_samples_leaf': 1,\n",
            " 'min_samples_split': 2,\n",
            " 'min_weight_fraction_leaf': 0.0,\n",
            " 'n_estimators': 500,\n",
            " 'n_jobs': None,\n",
            " 'oob_score': False,\n",
            " 'random_state': None,\n",
            " 'verbose': 0,\n",
            " 'warm_start': False}\n"
          ]
        }
      ]
    },
    {
      "cell_type": "markdown",
      "source": [
        "We will try adjusting the following set of hyperparameters: \n",
        "n_estimators, max_features, max_depth, min_samples_split, min_samples_leaf, and bootstrap"
      ],
      "metadata": {
        "id": "hdQ5aSTWIkdk"
      }
    },
    {
      "cell_type": "code",
      "source": [
        "from sklearn.model_selection import RandomizedSearchCV\n",
        "\n",
        "random_grid = {\n",
        "    'bootstrap' : [True, False],\n",
        "    'max_depth' : [10, 40, 70, 100],\n",
        "    'max_features' : [.33, .5], \n",
        "    'min_samples_leaf': [1, 2, 4],\n",
        "    'min_samples_split': [8, 10],\n",
        "    'n_estimators' : [100, 500, 1000]\n",
        "}\n",
        "\n",
        "pprint(random_grid)"
      ],
      "metadata": {
        "colab": {
          "base_uri": "https://localhost:8080/"
        },
        "id": "c9grYkmYXNTC",
        "outputId": "07b838a5-8885-43a8-d2ec-39d675d137c6"
      },
      "execution_count": 109,
      "outputs": [
        {
          "output_type": "stream",
          "name": "stdout",
          "text": [
            "{'bootstrap': [True, False],\n",
            " 'max_depth': [10, 40, 70, 100],\n",
            " 'max_features': [0.33, 0.5],\n",
            " 'min_samples_leaf': [1, 2, 4],\n",
            " 'min_samples_split': [8, 10],\n",
            " 'n_estimators': [100, 500, 1000]}\n"
          ]
        }
      ]
    },
    {
      "cell_type": "code",
      "source": [
        "rf = RandomForestRegressor()\n",
        "rf_random = RandomizedSearchCV(estimator = rf, param_distributions= random_grid, n_iter = 100, cv = 3, verbose = 2, n_jobs = -1)\n",
        "rf_random.fit(X_train_rfe, y_train)\n",
        "rf_random.best_params_"
      ],
      "metadata": {
        "colab": {
          "base_uri": "https://localhost:8080/"
        },
        "id": "CJ26FkxFYmpe",
        "outputId": "aa31fb46-d641-4fe5-85c4-f24827655508"
      },
      "execution_count": 110,
      "outputs": [
        {
          "output_type": "stream",
          "name": "stdout",
          "text": [
            "Fitting 3 folds for each of 100 candidates, totalling 300 fits\n"
          ]
        },
        {
          "output_type": "execute_result",
          "data": {
            "text/plain": [
              "{'bootstrap': False,\n",
              " 'max_depth': 100,\n",
              " 'max_features': 0.33,\n",
              " 'min_samples_leaf': 1,\n",
              " 'min_samples_split': 8,\n",
              " 'n_estimators': 500}"
            ]
          },
          "metadata": {},
          "execution_count": 110
        }
      ]
    },
    {
      "cell_type": "markdown",
      "source": [
        "Using Random Search, we narrowed down a range for each hyperparameter. We can now concentrate our search by using GridSearchCV to evaluate the combinations we define. The following is another grid based on the best values from random search: "
      ],
      "metadata": {
        "id": "-qSDLLBgjNX_"
      }
    },
    {
      "cell_type": "code",
      "source": [
        "from sklearn.model_selection import GridSearchCV\n",
        "# Create the parameter grid based on the results of random search \n",
        "param_grid = {\n",
        "    'bootstrap': [False],\n",
        "    'max_depth': [90, 100],\n",
        "    'max_features': [5, 6],\n",
        "    'min_samples_leaf': [1, 2],\n",
        "    'min_samples_split': [8, 9],\n",
        "    'n_estimators': [250, 500, 750]\n",
        "}\n",
        "# Create a RF model\n",
        "rf = RandomForestRegressor()\n",
        "# Instantiate the grid search model\n",
        "grid_search_rf = GridSearchCV(estimator = rf, param_grid = param_grid, \n",
        "                          cv = 3, n_jobs = -1, verbose = 2)"
      ],
      "metadata": {
        "id": "oVaYNx2VUUCY"
      },
      "execution_count": 111,
      "outputs": []
    },
    {
      "cell_type": "code",
      "source": [
        "grid_search_rf.fit(X_train_rfe, y_train)\n",
        "grid_search_rf.best_params_"
      ],
      "metadata": {
        "colab": {
          "base_uri": "https://localhost:8080/"
        },
        "id": "zXs3GOpJUVRR",
        "outputId": "f9264810-380f-48fd-fb1f-5b2e20f4f9f9"
      },
      "execution_count": 112,
      "outputs": [
        {
          "output_type": "stream",
          "name": "stdout",
          "text": [
            "Fitting 3 folds for each of 48 candidates, totalling 144 fits\n"
          ]
        },
        {
          "output_type": "execute_result",
          "data": {
            "text/plain": [
              "{'bootstrap': False,\n",
              " 'max_depth': 90,\n",
              " 'max_features': 6,\n",
              " 'min_samples_leaf': 1,\n",
              " 'min_samples_split': 8,\n",
              " 'n_estimators': 750}"
            ]
          },
          "metadata": {},
          "execution_count": 112
        }
      ]
    },
    {
      "cell_type": "markdown",
      "source": [
        "Using GridSearch, we find the optimal values for the hyperparameters and get a MSE of .5732 and RSquared of .4884"
      ],
      "metadata": {
        "id": "mOpH9DOfjucQ"
      }
    },
    {
      "cell_type": "code",
      "source": [
        "y_grid_pred_rf = grid_search_rf.predict(X_test_rfe)\n",
        "rf_mse = mse(y_grid_pred_rf, y_test.values)\n",
        "print('Random Forest MSE: ' + str(rf_mse))\n",
        "rf_rs = rsquared(y_test.values, y_grid_pred_rf)\n",
        "print('RSquared: ' + str(rf_rs))"
      ],
      "metadata": {
        "id": "PXnvMvGOUZxa",
        "colab": {
          "base_uri": "https://localhost:8080/"
        },
        "outputId": "e06dbefb-d863-4e94-dcc9-8e1551934692"
      },
      "execution_count": 115,
      "outputs": [
        {
          "output_type": "stream",
          "name": "stdout",
          "text": [
            "Random Forest MSE: 0.57323856993495\n",
            "RSquared: 0.48842990576209866\n"
          ]
        }
      ]
    },
    {
      "cell_type": "markdown",
      "source": [
        "## VII: Gradient Boosting"
      ],
      "metadata": {
        "id": "FAtcXF6MhQUy"
      }
    },
    {
      "cell_type": "code",
      "source": [
        "from sklearn import ensemble\n",
        "n_trees=200\n",
        "gradientboost = ensemble.GradientBoostingRegressor(loss='squared_error',learning_rate=0.03,n_estimators=n_trees,max_depth=4)\n",
        "gradientboost.fit(X_train_rfe,y_train)"
      ],
      "metadata": {
        "colab": {
          "base_uri": "https://localhost:8080/"
        },
        "id": "KOR-Z40TVRNA",
        "outputId": "ac3a07b3-fac8-4269-b468-a1595eac6da7"
      },
      "execution_count": 116,
      "outputs": [
        {
          "output_type": "execute_result",
          "data": {
            "text/plain": [
              "GradientBoostingRegressor(learning_rate=0.03, max_depth=4, n_estimators=200)"
            ]
          },
          "metadata": {},
          "execution_count": 116
        }
      ]
    },
    {
      "cell_type": "code",
      "source": [
        "y_pred_gb=gradientboost.predict(X_test_rfe)\n",
        "error=gradientboost.loss_(y_test,y_pred_gb) #Loss = Mean square error\n",
        "print(\"GBM MSE: %.3f\" % error)\n",
        "print(\"GBM RSquared: %.3f\" % rsquared(y_test.values, y_pred_gb))"
      ],
      "metadata": {
        "colab": {
          "base_uri": "https://localhost:8080/"
        },
        "id": "FYhnHbFwVd_d",
        "outputId": "93e1acfe-4b31-4b61-9cc6-214f4c298eac"
      },
      "execution_count": 121,
      "outputs": [
        {
          "output_type": "stream",
          "name": "stdout",
          "text": [
            "GBM MSE: 0.590\n",
            "GBM RSquared: 0.473\n"
          ]
        }
      ]
    },
    {
      "cell_type": "markdown",
      "source": [
        "### Hyperparameter Tuning"
      ],
      "metadata": {
        "id": "7DJfoa64hkw2"
      }
    },
    {
      "cell_type": "markdown",
      "source": [
        "We are looking to tune the following hyperparameters of the GBM: learning_rate, n_estimators, and max_depth"
      ],
      "metadata": {
        "id": "M7DneSFHko7U"
      }
    },
    {
      "cell_type": "code",
      "source": [
        "gb_random_grid = {\n",
        "    'loss' : ['squared_error'],\n",
        "    'max_depth' : [1, 3, 5, 7, 9], \n",
        "    'learning_rate' : [0.001, 0.01, 0.1, 1],\n",
        "    'n_estimators' : [100, 500, 1000]\n",
        "}\n",
        "\n",
        "gb = ensemble.GradientBoostingRegressor()\n",
        "gb_random = RandomizedSearchCV(estimator = gb, param_distributions= gb_random_grid, cv = 3, verbose = 2, n_jobs = -1)\n",
        "gb_random.fit(X_train_rfe, y_train)\n",
        "gb_random.best_params_"
      ],
      "metadata": {
        "colab": {
          "base_uri": "https://localhost:8080/"
        },
        "id": "ZFIisjkGkWwe",
        "outputId": "227ce4c5-1c12-4057-de6a-ddab134ffa3b"
      },
      "execution_count": 122,
      "outputs": [
        {
          "output_type": "stream",
          "name": "stdout",
          "text": [
            "Fitting 3 folds for each of 10 candidates, totalling 30 fits\n"
          ]
        },
        {
          "output_type": "execute_result",
          "data": {
            "text/plain": [
              "{'learning_rate': 0.01,\n",
              " 'loss': 'squared_error',\n",
              " 'max_depth': 5,\n",
              " 'n_estimators': 1000}"
            ]
          },
          "metadata": {},
          "execution_count": 122
        }
      ]
    },
    {
      "cell_type": "markdown",
      "source": [
        "Using Random Search, we narrowed down a range for each hyperparameter. We can now concentrate our search by using GridSearchCV to evaluate the combinations we define. The following is another grid based on the best values from random search: "
      ],
      "metadata": {
        "id": "iU5e5OV0IgAg"
      }
    },
    {
      "cell_type": "code",
      "source": [
        "# Create the parameter grid based on the results of random search \n",
        "param_grid = {\n",
        "    'loss' : ['squared_error'],\n",
        "    'max_depth' : [4, 5, 6],\n",
        "    'learning_rate' : [.01, .02, .03],\n",
        "    'n_estimators': [750, 1000, 1250]\n",
        "}\n",
        "# Create a based model\n",
        "gb = ensemble.GradientBoostingRegressor()\n",
        "# Instantiate the grid search model\n",
        "grid_search_gb = GridSearchCV(estimator = gb, param_grid = param_grid, \n",
        "                          cv = 3, n_jobs = -1, verbose = 2)"
      ],
      "metadata": {
        "id": "iYaSZgC_VgMd"
      },
      "execution_count": 123,
      "outputs": []
    },
    {
      "cell_type": "code",
      "source": [
        "grid_search_gb.fit(X_train_rfe, y_train)\n",
        "grid_search_gb.best_params_"
      ],
      "metadata": {
        "colab": {
          "base_uri": "https://localhost:8080/"
        },
        "id": "YhL7AiT7VnYF",
        "outputId": "fbc04836-935c-4074-8bc7-36296953c07a"
      },
      "execution_count": 124,
      "outputs": [
        {
          "output_type": "stream",
          "name": "stdout",
          "text": [
            "Fitting 3 folds for each of 27 candidates, totalling 81 fits\n"
          ]
        },
        {
          "output_type": "execute_result",
          "data": {
            "text/plain": [
              "{'learning_rate': 0.01,\n",
              " 'loss': 'squared_error',\n",
              " 'max_depth': 5,\n",
              " 'n_estimators': 750}"
            ]
          },
          "metadata": {},
          "execution_count": 124
        }
      ]
    },
    {
      "cell_type": "markdown",
      "source": [
        "Using GridSearch, we find the optimal values for the hyperparameters and get a MSE of .594 and RSquared of .470"
      ],
      "metadata": {
        "id": "HnjTsxFSImHM"
      }
    },
    {
      "cell_type": "code",
      "source": [
        "grid_search_gb_pred = grid_search_gb.predict(X_test_rfe)\n",
        "gb_mse = mse(y_test.values, grid_search_gb_pred)\n",
        "gb_rs = rsquared(y_test.values, grid_search_gb_pred)\n",
        "print(\"GBM MSE: %.3f\" % gb_mse)\n",
        "print(\"GBM RSquared: %.3f\" % gb_rs)"
      ],
      "metadata": {
        "id": "qQ0FRKy52nQb",
        "colab": {
          "base_uri": "https://localhost:8080/"
        },
        "outputId": "7fa81000-3b7f-418d-bfaa-1729f20e839d"
      },
      "execution_count": 126,
      "outputs": [
        {
          "output_type": "stream",
          "name": "stdout",
          "text": [
            "GBM MSE: 0.594\n",
            "GBM RSquared: 0.470\n"
          ]
        }
      ]
    },
    {
      "cell_type": "markdown",
      "source": [
        "##VIII: Model Comparison and Feature Importance"
      ],
      "metadata": {
        "id": "PdRIEW0ghvy2"
      }
    },
    {
      "cell_type": "code",
      "source": [
        "model_eval_cols = ['Model', 'MSE', 'RSquared']\n",
        "model_eval = pd.DataFrame(columns = model_eval_cols)\n",
        "model_eval = model_eval.append({'Model': 'Linear Regression', 'MSE': lin_reg_mse, 'RSquared': lin_reg_rs}, ignore_index=True)\n",
        "model_eval = model_eval.append({'Model': 'Random Forest', 'MSE': rf_mse, 'RSquared': rf_rs}, ignore_index=True)\n",
        "model_eval = model_eval.append({'Model': 'Gradient Boost', 'MSE': gb_mse, 'RSquared': gb_rs}, ignore_index=True)\n",
        "\n",
        "model_eval"
      ],
      "metadata": {
        "colab": {
          "base_uri": "https://localhost:8080/",
          "height": 143
        },
        "id": "hw5lye3RyiHa",
        "outputId": "8ba47f69-1e96-480b-e033-6d267a2df3f8"
      },
      "execution_count": 127,
      "outputs": [
        {
          "output_type": "execute_result",
          "data": {
            "text/html": [
              "\n",
              "  <div id=\"df-03a8a45b-c753-46ac-8e5e-30886a392063\">\n",
              "    <div class=\"colab-df-container\">\n",
              "      <div>\n",
              "<style scoped>\n",
              "    .dataframe tbody tr th:only-of-type {\n",
              "        vertical-align: middle;\n",
              "    }\n",
              "\n",
              "    .dataframe tbody tr th {\n",
              "        vertical-align: top;\n",
              "    }\n",
              "\n",
              "    .dataframe thead th {\n",
              "        text-align: right;\n",
              "    }\n",
              "</style>\n",
              "<table border=\"1\" class=\"dataframe\">\n",
              "  <thead>\n",
              "    <tr style=\"text-align: right;\">\n",
              "      <th></th>\n",
              "      <th>Model</th>\n",
              "      <th>MSE</th>\n",
              "      <th>RSquared</th>\n",
              "    </tr>\n",
              "  </thead>\n",
              "  <tbody>\n",
              "    <tr>\n",
              "      <th>0</th>\n",
              "      <td>Linear Regression</td>\n",
              "      <td>0.727230</td>\n",
              "      <td>0.351005</td>\n",
              "    </tr>\n",
              "    <tr>\n",
              "      <th>1</th>\n",
              "      <td>Random Forest</td>\n",
              "      <td>0.573239</td>\n",
              "      <td>0.488430</td>\n",
              "    </tr>\n",
              "    <tr>\n",
              "      <th>2</th>\n",
              "      <td>Gradient Boost</td>\n",
              "      <td>0.593966</td>\n",
              "      <td>0.469932</td>\n",
              "    </tr>\n",
              "  </tbody>\n",
              "</table>\n",
              "</div>\n",
              "      <button class=\"colab-df-convert\" onclick=\"convertToInteractive('df-03a8a45b-c753-46ac-8e5e-30886a392063')\"\n",
              "              title=\"Convert this dataframe to an interactive table.\"\n",
              "              style=\"display:none;\">\n",
              "        \n",
              "  <svg xmlns=\"http://www.w3.org/2000/svg\" height=\"24px\"viewBox=\"0 0 24 24\"\n",
              "       width=\"24px\">\n",
              "    <path d=\"M0 0h24v24H0V0z\" fill=\"none\"/>\n",
              "    <path d=\"M18.56 5.44l.94 2.06.94-2.06 2.06-.94-2.06-.94-.94-2.06-.94 2.06-2.06.94zm-11 1L8.5 8.5l.94-2.06 2.06-.94-2.06-.94L8.5 2.5l-.94 2.06-2.06.94zm10 10l.94 2.06.94-2.06 2.06-.94-2.06-.94-.94-2.06-.94 2.06-2.06.94z\"/><path d=\"M17.41 7.96l-1.37-1.37c-.4-.4-.92-.59-1.43-.59-.52 0-1.04.2-1.43.59L10.3 9.45l-7.72 7.72c-.78.78-.78 2.05 0 2.83L4 21.41c.39.39.9.59 1.41.59.51 0 1.02-.2 1.41-.59l7.78-7.78 2.81-2.81c.8-.78.8-2.07 0-2.86zM5.41 20L4 18.59l7.72-7.72 1.47 1.35L5.41 20z\"/>\n",
              "  </svg>\n",
              "      </button>\n",
              "      \n",
              "  <style>\n",
              "    .colab-df-container {\n",
              "      display:flex;\n",
              "      flex-wrap:wrap;\n",
              "      gap: 12px;\n",
              "    }\n",
              "\n",
              "    .colab-df-convert {\n",
              "      background-color: #E8F0FE;\n",
              "      border: none;\n",
              "      border-radius: 50%;\n",
              "      cursor: pointer;\n",
              "      display: none;\n",
              "      fill: #1967D2;\n",
              "      height: 32px;\n",
              "      padding: 0 0 0 0;\n",
              "      width: 32px;\n",
              "    }\n",
              "\n",
              "    .colab-df-convert:hover {\n",
              "      background-color: #E2EBFA;\n",
              "      box-shadow: 0px 1px 2px rgba(60, 64, 67, 0.3), 0px 1px 3px 1px rgba(60, 64, 67, 0.15);\n",
              "      fill: #174EA6;\n",
              "    }\n",
              "\n",
              "    [theme=dark] .colab-df-convert {\n",
              "      background-color: #3B4455;\n",
              "      fill: #D2E3FC;\n",
              "    }\n",
              "\n",
              "    [theme=dark] .colab-df-convert:hover {\n",
              "      background-color: #434B5C;\n",
              "      box-shadow: 0px 1px 3px 1px rgba(0, 0, 0, 0.15);\n",
              "      filter: drop-shadow(0px 1px 2px rgba(0, 0, 0, 0.3));\n",
              "      fill: #FFFFFF;\n",
              "    }\n",
              "  </style>\n",
              "\n",
              "      <script>\n",
              "        const buttonEl =\n",
              "          document.querySelector('#df-03a8a45b-c753-46ac-8e5e-30886a392063 button.colab-df-convert');\n",
              "        buttonEl.style.display =\n",
              "          google.colab.kernel.accessAllowed ? 'block' : 'none';\n",
              "\n",
              "        async function convertToInteractive(key) {\n",
              "          const element = document.querySelector('#df-03a8a45b-c753-46ac-8e5e-30886a392063');\n",
              "          const dataTable =\n",
              "            await google.colab.kernel.invokeFunction('convertToInteractive',\n",
              "                                                     [key], {});\n",
              "          if (!dataTable) return;\n",
              "\n",
              "          const docLinkHtml = 'Like what you see? Visit the ' +\n",
              "            '<a target=\"_blank\" href=https://colab.research.google.com/notebooks/data_table.ipynb>data table notebook</a>'\n",
              "            + ' to learn more about interactive tables.';\n",
              "          element.innerHTML = '';\n",
              "          dataTable['output_type'] = 'display_data';\n",
              "          await google.colab.output.renderOutput(dataTable, element);\n",
              "          const docLink = document.createElement('div');\n",
              "          docLink.innerHTML = docLinkHtml;\n",
              "          element.appendChild(docLink);\n",
              "        }\n",
              "      </script>\n",
              "    </div>\n",
              "  </div>\n",
              "  "
            ],
            "text/plain": [
              "               Model       MSE  RSquared\n",
              "0  Linear Regression  0.727230  0.351005\n",
              "1      Random Forest  0.573239  0.488430\n",
              "2     Gradient Boost  0.593966  0.469932"
            ]
          },
          "metadata": {},
          "execution_count": 127
        }
      ]
    },
    {
      "cell_type": "markdown",
      "source": [
        "After evaluating the Linear Regression, Random Forest Regression, and Gradient Booster models, we get the feature importance from our best Random Forest estimator."
      ],
      "metadata": {
        "id": "UeIEQ8Pu_9gQ"
      }
    },
    {
      "cell_type": "code",
      "source": [
        "feature_importance = grid_search_rf.best_estimator_.feature_importances_ #selecting our best estimator from the Random Forest model\n",
        "sorted_importance = np.argsort(feature_importance) #sorting features by importance\n",
        "pos = np.arange(len(sorted_importance))\n",
        "plt.figure(figsize=(12,10))\n",
        "plt.barh(pos, feature_importance[sorted_importance],align='center')\n",
        "plt.yticks(pos, X_train_rfe.columns[sorted_importance],fontsize=10)\n",
        "plt.title('Feature Importance for imdb_score',fontsize=18)\n",
        "plt.show()"
      ],
      "metadata": {
        "id": "fXeBvt4BWF7-",
        "colab": {
          "base_uri": "https://localhost:8080/",
          "height": 611
        },
        "outputId": "d1de0058-19e6-4a14-fb62-df55ea920963"
      },
      "execution_count": 129,
      "outputs": [
        {
          "output_type": "display_data",
          "data": {
            "image/png": "[encoded data removed]",
            "text/plain": [
              "<Figure size 864x720 with 1 Axes>"
            ]
          },
          "metadata": {
            "needs_background": "light"
          }
        }
      ]
    },
    {
      "cell_type": "markdown",
      "source": [
        "# Conclusion and Takeaways\n",
        "\n",
        "\n",
        "\n",
        "1.  **Feature Importance:** As displayed above, we can identify the importance of the Top 20 Predictors of imdb_score. The top 5 most prominenta are (in order) : Number of Voted Users, Duration, Title Year, Budget, and the Number of Critic for Reviews\n",
        "2.   **Model Accuracy**: The most accurate estimator was a Random Forest Regressor with an R^2 of 0.488 and a MSE of 0.573\n",
        "\n",
        "**Areas for Improvement**\n",
        "\n",
        "\n",
        "*   **Missing Value Imputation:** More robust NaN imputation for both numerical and categorical variables technique such as KNN or Random Forest Imputation \n",
        "*   **Further Model Exploration:** Alternative modeling methods could have been explored including Support Vector Machines and the ensemble model, XGBoost \n",
        "*  **Inaccurate Genre Labeling:** Given the genre list, I parsed for the first genre listed and converted the remaining into a count of additional genres. As I'm not sure how the genres were initially ordered, it's possible that some specificity was lost by choosing only the first element. \n",
        "\n",
        "**Future Directions**\n",
        "\n",
        "\n",
        "*   The 'Gross' Column could be evaluated as a dependent variable, and it could be interesting to explore the relationship between the non-IMDB values (director, actor, budget, etc) and the Gross value of movies\n",
        "*   The 'Content_Rating' label is intriguing, as the industry standards for content rating have changed over time. For example, some movies produced before the MPAA System was established in 1968 could just qualify as \"Passed.\" As the content rating can be understood as a limitation on the expected age range of a movie, I wonder if it could have been converted into an Ordinal variable and further factored more accurately into the prediction model\n",
        "\n",
        "\n",
        "\n",
        "\n",
        "\n",
        "\n",
        "\n",
        "\n"
      ],
      "metadata": {
        "id": "BdWyF9XnBHY9"
      }
    }
  ]
}